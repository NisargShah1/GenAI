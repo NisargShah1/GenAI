{
 "cells": [
  {
   "cell_type": "code",
   "execution_count": 2,
   "id": "01c58d15-c177-47c7-8739-9f1139b4567c",
   "metadata": {},
   "outputs": [],
   "source": [
    "!pip install google-generativeai --quiet"
   ]
  },
  {
   "cell_type": "code",
   "execution_count": 34,
   "id": "38c5c1ea-eb9d-49b0-8ed8-3717b84c499c",
   "metadata": {},
   "outputs": [],
   "source": [
    "import google.generativeai as genai\n",
    "from dotenv import load_dotenv, find_dotenv\n",
    "import os\n",
    "\n",
    "load_dotenv('C:/Users/Nisharg/notebooks/LLM/.env/env.TXT')\n",
    "\n",
    "genai.configure(api_key=os.getenv(\"GEMINI_API_KEY\"))\n",
    "model = genai.GenerativeModel(\"gemini-2.0-flash\")"
   ]
  },
  {
   "cell_type": "code",
   "execution_count": 36,
   "id": "9b32d137-f582-4dfa-b3d2-368da197b6ba",
   "metadata": {},
   "outputs": [],
   "source": [
    "def build_prompt(question, reference, prediction):\n",
    "    return f\"\"\"\n",
    "You are an expert evaluator of question-answering systems. Given a question, the reference answer, and a model-generated answer, your job is to score the model's answer from 1 to 5 based on:\n",
    "- Faithfulness (accuracy to the reference)\n",
    "- Completeness (does it cover key points)\n",
    "- Clarity (is it understandable and well-written)\n",
    "\n",
    "Give a score and a short justification.\n",
    "\n",
    "### Question:\n",
    "{question}\n",
    "\n",
    "### Reference Answer:\n",
    "{reference}\n",
    "\n",
    "### Model's Answer:\n",
    "{prediction}\n",
    "\n",
    "### Evaluation:\n",
    "Score (1-5):\n",
    "Justification:\n",
    "\"\"\""
   ]
  },
  {
   "cell_type": "code",
   "execution_count": 58,
   "id": "be73675d-639c-477d-b46d-f8cb4d4d6c0a",
   "metadata": {},
   "outputs": [],
   "source": [
    "qa_data = [\n",
    "    {\n",
    "        \"question\": \"What causes global warming?\",\n",
    "        \"reference\": \"Global warming is caused by greenhouse gases from burning fossil fuels and deforestation.\",\n",
    "        \"prediction\": \"It is caused by human-released gases like CO2 and methane which trap heat.\"\n",
    "    },\n",
    "    {\n",
    "        \"question\": \"What is the capital of France?\",\n",
    "        \"reference\": \"The capital of France is Paris.\",\n",
    "        \"prediction\": \"London is the capital city of France.\"\n",
    "    },\n",
    "    # Add more..\n",
    "]"
   ]
  },
  {
   "cell_type": "markdown",
   "id": "e9b9e594-42cb-43d1-b540-d41ee19f73f7",
   "metadata": {},
   "source": [
    "# Function to call GPT-4 for evaluation (given for reference as alternative to gemini)\n",
    "def evaluate_with_gpt(prompt):\n",
    "    try:\n",
    "        response = openai.ChatCompletion.create(\n",
    "            model=\"gpt-4\",\n",
    "            messages=[{\"role\": \"user\", \"content\": prompt}],\n",
    "            temperature=0.2\n",
    "        )\n",
    "        return response['choices'][0]['message']['content']\n",
    "    except Exception as e:\n",
    "        return f\"Error: {str(e)}\"\n",
    "\n",
    "# store response in result and use same way as below"
   ]
  },
  {
   "cell_type": "code",
   "execution_count": 60,
   "id": "3ee83698-441f-46cb-8efb-2e1e6831134c",
   "metadata": {},
   "outputs": [
    {
     "name": "stdout",
     "output_type": "stream",
     "text": [
      "Evaluating Q1: What causes global warming?...\n",
      "Evaluating Q2: What is the capital of France?...\n"
     ]
    }
   ],
   "source": [
    "import time\n",
    "\n",
    "def evaluate_with_gemini(prompt):\n",
    "    try:\n",
    "        response = model.generate_content(prompt)\n",
    "        return response.text\n",
    "    except Exception as e:\n",
    "        return f\"Error: {e}\"\n",
    "\n",
    "results = []\n",
    "\n",
    "for i, item in enumerate(qa_data):\n",
    "    print(f\"Evaluating Q{i+1}: {item['question'][:50]}...\")\n",
    "    prompt = build_prompt(item[\"question\"], item[\"reference\"], item[\"prediction\"])\n",
    "    result = evaluate_with_gemini(prompt)\n",
    "    \n",
    "    results.append({\n",
    "        \"question\": item[\"question\"],\n",
    "        \"reference\": item[\"reference\"],\n",
    "        \"prediction\": item[\"prediction\"],\n",
    "        \"evaluation\": result\n",
    "    })\n",
    "    time.sleep(1)  # Avoid rate limits\n"
   ]
  },
  {
   "cell_type": "code",
   "execution_count": 61,
   "id": "f6b4e23e-6400-41d1-b704-6ca3848b6cdb",
   "metadata": {},
   "outputs": [
    {
     "data": {
      "text/html": [
       "<div>\n",
       "<style scoped>\n",
       "    .dataframe tbody tr th:only-of-type {\n",
       "        vertical-align: middle;\n",
       "    }\n",
       "\n",
       "    .dataframe tbody tr th {\n",
       "        vertical-align: top;\n",
       "    }\n",
       "\n",
       "    .dataframe thead th {\n",
       "        text-align: right;\n",
       "    }\n",
       "</style>\n",
       "<table border=\"1\" class=\"dataframe\">\n",
       "  <thead>\n",
       "    <tr style=\"text-align: right;\">\n",
       "      <th></th>\n",
       "      <th>question</th>\n",
       "      <th>reference</th>\n",
       "      <th>prediction</th>\n",
       "      <th>evaluation</th>\n",
       "    </tr>\n",
       "  </thead>\n",
       "  <tbody>\n",
       "    <tr>\n",
       "      <th>0</th>\n",
       "      <td>What causes global warming?</td>\n",
       "      <td>Global warming is caused by greenhouse gases f...</td>\n",
       "      <td>It is caused by human-released gases like CO2 ...</td>\n",
       "      <td>Score: 5\\nJustification: The model answer is f...</td>\n",
       "    </tr>\n",
       "    <tr>\n",
       "      <th>1</th>\n",
       "      <td>What is the capital of France?</td>\n",
       "      <td>The capital of France is Paris.</td>\n",
       "      <td>London is the capital city of France.</td>\n",
       "      <td>Score (1-5): 1\\nJustification: The model's ans...</td>\n",
       "    </tr>\n",
       "  </tbody>\n",
       "</table>\n",
       "</div>"
      ],
      "text/plain": [
       "                         question  \\\n",
       "0     What causes global warming?   \n",
       "1  What is the capital of France?   \n",
       "\n",
       "                                           reference  \\\n",
       "0  Global warming is caused by greenhouse gases f...   \n",
       "1                    The capital of France is Paris.   \n",
       "\n",
       "                                          prediction  \\\n",
       "0  It is caused by human-released gases like CO2 ...   \n",
       "1              London is the capital city of France.   \n",
       "\n",
       "                                          evaluation  \n",
       "0  Score: 5\\nJustification: The model answer is f...  \n",
       "1  Score (1-5): 1\\nJustification: The model's ans...  "
      ]
     },
     "execution_count": 61,
     "metadata": {},
     "output_type": "execute_result"
    }
   ],
   "source": [
    "import pandas as pd\n",
    "\n",
    "df = pd.DataFrame(results)\n",
    "df.to_csv(\"gemini_llm_judge_results.csv\", index=False)\n",
    "df.head()\n"
   ]
  },
  {
   "cell_type": "code",
   "execution_count": null,
   "id": "25b983c0-7af4-449b-939c-b4353ccf2e53",
   "metadata": {},
   "outputs": [],
   "source": []
  }
 ],
 "metadata": {
  "kernelspec": {
   "display_name": "Python 3 (ipykernel)",
   "language": "python",
   "name": "python3"
  },
  "language_info": {
   "codemirror_mode": {
    "name": "ipython",
    "version": 3
   },
   "file_extension": ".py",
   "mimetype": "text/x-python",
   "name": "python",
   "nbconvert_exporter": "python",
   "pygments_lexer": "ipython3",
   "version": "3.12.7"
  }
 },
 "nbformat": 4,
 "nbformat_minor": 5
}
